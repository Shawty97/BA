{
 "cells": [
  {
   "cell_type": "code",
   "execution_count": 5,
   "metadata": {},
   "outputs": [],
   "source": [
    "# imports\n",
    "import json\n",
    "import re\n",
    "import string\n",
    "from pprint import pprint as print\n",
    "\n",
    "from nltk.tokenize import word_tokenize, sent_tokenize\n",
    "from nltk.corpus import stopwords\n",
    "from nltk.stem.porter import PorterStemmer\n",
    "from nltk.stem.wordnet import WordNetLemmatizer"
   ]
  },
  {
   "cell_type": "code",
   "execution_count": 12,
   "metadata": {},
   "outputs": [
    {
     "name": "stdout",
     "output_type": "stream",
     "text": [
      "{'conversation_id': '913599329369280513',\n",
      " 'created_at': '2017-09-29',\n",
      " 'data.public_metrics.like_count': 0,\n",
      " 'data.public_metrics.quote_count': 0,\n",
      " 'data.public_metrics.reply_count': 0,\n",
      " 'data.public_metrics.retweet_count': 3,\n",
      " 'day': 29,\n",
      " 'in_reply_to_user_id': '',\n",
      " 'lang': 'en',\n",
      " 'month': 9,\n",
      " 'possibly_sensitive': False,\n",
      " 'reply_settings': 'everyone',\n",
      " 'source': 'Twitter for iPhone',\n",
      " 'text': 'RT @forty3north: And congratulations to our runners-up @CooltureUSA '\n",
      "         'and Pneumaglide! #THEPITCH',\n",
      " 'tweet_id': '913599329369280513',\n",
      " 'user_id': '418101032',\n",
      " 'year': 2017}\n"
     ]
    }
   ],
   "source": [
    "# load data\n",
    "\n",
    "with open('data/tweets.json', encoding='utf-8') as file_in:\n",
    "    tweets = json.load(file_in)['tweets']\n",
    "\n",
    "print(tweets[0])"
   ]
  },
  {
   "cell_type": "code",
   "execution_count": 13,
   "metadata": {},
   "outputs": [
    {
     "name": "stdout",
     "output_type": "stream",
     "text": [
      "[{'conversation_id': '913599329369280513',\n",
      "  'text': 'RT @forty3north: And congratulations to our runners-up @CooltureUSA '\n",
      "          'and Pneumaglide! #THEPITCH',\n",
      "  'tweet_id': '913599329369280513'},\n",
      " {'conversation_id': '913599235077083136',\n",
      "  'text': 'RT @MarnieLaVigne2: @Launch_NY client @CooltureUSA wins $5k! '\n",
      "          'https://t.co/Sx38wpPw7l',\n",
      "  'tweet_id': '913599235077083136'},\n",
      " {'conversation_id': '913599211425419265',\n",
      "  'text': 'RT @AshleyroweWKBW: Congratulations to @ZandraBeauty for winning '\n",
      "          'top prize at #ThePitch @forty3north ! A rising star. Our full story '\n",
      "          'on Zan…',\n",
      "  'tweet_id': '913599211425419265'}]\n"
     ]
    }
   ],
   "source": [
    "# clean unwanted fields\n",
    "tweets_cleaned = []\n",
    "\n",
    "for tweet in tweets:\n",
    "    tweets_cleaned.append(\n",
    "        dict(\n",
    "            text=tweet['text'],\n",
    "            tweet_id=tweet['tweet_id'],\n",
    "            conversation_id=tweet['conversation_id'],\n",
    "        )\n",
    "    )\n",
    "\n",
    "print(tweets_cleaned[:3])"
   ]
  },
  {
   "cell_type": "code",
   "execution_count": 1,
   "metadata": {},
   "outputs": [],
   "source": [
    "# remove duplicates"
   ]
  },
  {
   "cell_type": "code",
   "execution_count": 15,
   "metadata": {},
   "outputs": [
    {
     "name": "stdout",
     "output_type": "stream",
     "text": [
      "[{'conversation_id': '913599329369280513',\n",
      "  'text': 'rt @forty3north: and congratulations to our runners-up @cooltureusa '\n",
      "          'and pneumaglide! #thepitch',\n",
      "  'tweet_id': '913599329369280513'},\n",
      " {'conversation_id': '913599235077083136',\n",
      "  'text': 'rt @marnielavigne2: @launch_ny client @cooltureusa wins $5k! '\n",
      "          'https://t.co/sx38wppw7l',\n",
      "  'tweet_id': '913599235077083136'},\n",
      " {'conversation_id': '913599211425419265',\n",
      "  'text': 'rt @ashleyrowewkbw: congratulations to @zandrabeauty for winning '\n",
      "          'top prize at #thepitch @forty3north ! a rising star. our full story '\n",
      "          'on zan…',\n",
      "  'tweet_id': '913599211425419265'}]\n"
     ]
    }
   ],
   "source": [
    "# lowercase\n",
    "punctuation_re = f'[{re.escape(string.punctuation)}]'\n",
    "tokenized_docs_no_punctuation = []\n",
    "\n",
    "for review in tokenized_docs:\n",
    "    new_review = []\n",
    "    for token in review:\n",
    "        new_token = regex.sub('', token)\n",
    "        if new_token != '':\n",
    "            new_review.append(new_token)\n",
    "\n",
    "    tokenized_docs_no_punctuation.append(new_review)"
   ]
  },
  {
   "cell_type": "code",
   "execution_count": 17,
   "metadata": {},
   "outputs": [
    {
     "ename": "LookupError",
     "evalue": "\n**********************************************************************\n  Resource \u001b[93mpunkt\u001b[0m not found.\n  Please use the NLTK Downloader to obtain the resource:\n\n  \u001b[31m>>> import nltk\n  >>> nltk.download('punkt')\n  \u001b[0m\n  For more information see: https://www.nltk.org/data.html\n\n  Attempted to load \u001b[93mtokenizers/punkt/english.pickle\u001b[0m\n\n  Searched in:\n    - 'C:\\\\Users\\\\lra/nltk_data'\n    - 'c:\\\\Users\\\\lra\\\\PycharmProjects\\\\Robert_Kopi_BA\\\\venv\\\\nltk_data'\n    - 'c:\\\\Users\\\\lra\\\\PycharmProjects\\\\Robert_Kopi_BA\\\\venv\\\\share\\\\nltk_data'\n    - 'c:\\\\Users\\\\lra\\\\PycharmProjects\\\\Robert_Kopi_BA\\\\venv\\\\lib\\\\nltk_data'\n    - 'C:\\\\Users\\\\lra\\\\AppData\\\\Roaming\\\\nltk_data'\n    - 'C:\\\\nltk_data'\n    - 'D:\\\\nltk_data'\n    - 'E:\\\\nltk_data'\n    - ''\n**********************************************************************\n",
     "output_type": "error",
     "traceback": [
      "\u001b[1;31m---------------------------------------------------------------------------\u001b[0m",
      "\u001b[1;31mLookupError\u001b[0m                               Traceback (most recent call last)",
      "\u001b[1;32mc:\\Users\\lra\\PycharmProjects\\Robert_Kopi_BA\\src\\main.ipynb Cell 6\u001b[0m in \u001b[0;36m<cell line: 2>\u001b[1;34m()\u001b[0m\n\u001b[0;32m      <a href='vscode-notebook-cell:/c%3A/Users/lra/PycharmProjects/Robert_Kopi_BA/src/main.ipynb#ch0000003?line=0'>1</a>\u001b[0m \u001b[39m# word tokenization\u001b[39;00m\n\u001b[1;32m----> <a href='vscode-notebook-cell:/c%3A/Users/lra/PycharmProjects/Robert_Kopi_BA/src/main.ipynb#ch0000003?line=1'>2</a>\u001b[0m tokenized_docs \u001b[39m=\u001b[39m [word_tokenize(tweet[\u001b[39m'\u001b[39m\u001b[39mtext\u001b[39m\u001b[39m'\u001b[39m]) \u001b[39mfor\u001b[39;00m tweet \u001b[39min\u001b[39;00m tweets_cleaned]\n\u001b[0;32m      <a href='vscode-notebook-cell:/c%3A/Users/lra/PycharmProjects/Robert_Kopi_BA/src/main.ipynb#ch0000003?line=3'>4</a>\u001b[0m \u001b[39m# sentence tokenization\u001b[39;00m\n\u001b[0;32m      <a href='vscode-notebook-cell:/c%3A/Users/lra/PycharmProjects/Robert_Kopi_BA/src/main.ipynb#ch0000003?line=4'>5</a>\u001b[0m sent_token \u001b[39m=\u001b[39m [sent_tokenize(tweet[\u001b[39m'\u001b[39m\u001b[39mtext\u001b[39m\u001b[39m'\u001b[39m]) \u001b[39mfor\u001b[39;00m tweet \u001b[39min\u001b[39;00m tweets_cleaned]\n",
      "\u001b[1;32mc:\\Users\\lra\\PycharmProjects\\Robert_Kopi_BA\\src\\main.ipynb Cell 6\u001b[0m in \u001b[0;36m<listcomp>\u001b[1;34m(.0)\u001b[0m\n\u001b[0;32m      <a href='vscode-notebook-cell:/c%3A/Users/lra/PycharmProjects/Robert_Kopi_BA/src/main.ipynb#ch0000003?line=0'>1</a>\u001b[0m \u001b[39m# word tokenization\u001b[39;00m\n\u001b[1;32m----> <a href='vscode-notebook-cell:/c%3A/Users/lra/PycharmProjects/Robert_Kopi_BA/src/main.ipynb#ch0000003?line=1'>2</a>\u001b[0m tokenized_docs \u001b[39m=\u001b[39m [word_tokenize(tweet[\u001b[39m'\u001b[39;49m\u001b[39mtext\u001b[39;49m\u001b[39m'\u001b[39;49m]) \u001b[39mfor\u001b[39;00m tweet \u001b[39min\u001b[39;00m tweets_cleaned]\n\u001b[0;32m      <a href='vscode-notebook-cell:/c%3A/Users/lra/PycharmProjects/Robert_Kopi_BA/src/main.ipynb#ch0000003?line=3'>4</a>\u001b[0m \u001b[39m# sentence tokenization\u001b[39;00m\n\u001b[0;32m      <a href='vscode-notebook-cell:/c%3A/Users/lra/PycharmProjects/Robert_Kopi_BA/src/main.ipynb#ch0000003?line=4'>5</a>\u001b[0m sent_token \u001b[39m=\u001b[39m [sent_tokenize(tweet[\u001b[39m'\u001b[39m\u001b[39mtext\u001b[39m\u001b[39m'\u001b[39m]) \u001b[39mfor\u001b[39;00m tweet \u001b[39min\u001b[39;00m tweets_cleaned]\n",
      "File \u001b[1;32mc:\\Users\\lra\\PycharmProjects\\Robert_Kopi_BA\\venv\\lib\\site-packages\\nltk\\tokenize\\__init__.py:129\u001b[0m, in \u001b[0;36mword_tokenize\u001b[1;34m(text, language, preserve_line)\u001b[0m\n\u001b[0;32m    114\u001b[0m \u001b[39mdef\u001b[39;00m \u001b[39mword_tokenize\u001b[39m(text, language\u001b[39m=\u001b[39m\u001b[39m\"\u001b[39m\u001b[39menglish\u001b[39m\u001b[39m\"\u001b[39m, preserve_line\u001b[39m=\u001b[39m\u001b[39mFalse\u001b[39;00m):\n\u001b[0;32m    115\u001b[0m     \u001b[39m\"\"\"\u001b[39;00m\n\u001b[0;32m    116\u001b[0m \u001b[39m    Return a tokenized copy of *text*,\u001b[39;00m\n\u001b[0;32m    117\u001b[0m \u001b[39m    using NLTK's recommended word tokenizer\u001b[39;00m\n\u001b[1;32m   (...)\u001b[0m\n\u001b[0;32m    127\u001b[0m \u001b[39m    :type preserve_line: bool\u001b[39;00m\n\u001b[0;32m    128\u001b[0m \u001b[39m    \"\"\"\u001b[39;00m\n\u001b[1;32m--> 129\u001b[0m     sentences \u001b[39m=\u001b[39m [text] \u001b[39mif\u001b[39;00m preserve_line \u001b[39melse\u001b[39;00m sent_tokenize(text, language)\n\u001b[0;32m    130\u001b[0m     \u001b[39mreturn\u001b[39;00m [\n\u001b[0;32m    131\u001b[0m         token \u001b[39mfor\u001b[39;00m sent \u001b[39min\u001b[39;00m sentences \u001b[39mfor\u001b[39;00m token \u001b[39min\u001b[39;00m _treebank_word_tokenizer\u001b[39m.\u001b[39mtokenize(sent)\n\u001b[0;32m    132\u001b[0m     ]\n",
      "File \u001b[1;32mc:\\Users\\lra\\PycharmProjects\\Robert_Kopi_BA\\venv\\lib\\site-packages\\nltk\\tokenize\\__init__.py:106\u001b[0m, in \u001b[0;36msent_tokenize\u001b[1;34m(text, language)\u001b[0m\n\u001b[0;32m     96\u001b[0m \u001b[39mdef\u001b[39;00m \u001b[39msent_tokenize\u001b[39m(text, language\u001b[39m=\u001b[39m\u001b[39m\"\u001b[39m\u001b[39menglish\u001b[39m\u001b[39m\"\u001b[39m):\n\u001b[0;32m     97\u001b[0m     \u001b[39m\"\"\"\u001b[39;00m\n\u001b[0;32m     98\u001b[0m \u001b[39m    Return a sentence-tokenized copy of *text*,\u001b[39;00m\n\u001b[0;32m     99\u001b[0m \u001b[39m    using NLTK's recommended sentence tokenizer\u001b[39;00m\n\u001b[1;32m   (...)\u001b[0m\n\u001b[0;32m    104\u001b[0m \u001b[39m    :param language: the model name in the Punkt corpus\u001b[39;00m\n\u001b[0;32m    105\u001b[0m \u001b[39m    \"\"\"\u001b[39;00m\n\u001b[1;32m--> 106\u001b[0m     tokenizer \u001b[39m=\u001b[39m load(\u001b[39mf\u001b[39;49m\u001b[39m\"\u001b[39;49m\u001b[39mtokenizers/punkt/\u001b[39;49m\u001b[39m{\u001b[39;49;00mlanguage\u001b[39m}\u001b[39;49;00m\u001b[39m.pickle\u001b[39;49m\u001b[39m\"\u001b[39;49m)\n\u001b[0;32m    107\u001b[0m     \u001b[39mreturn\u001b[39;00m tokenizer\u001b[39m.\u001b[39mtokenize(text)\n",
      "File \u001b[1;32mc:\\Users\\lra\\PycharmProjects\\Robert_Kopi_BA\\venv\\lib\\site-packages\\nltk\\data.py:750\u001b[0m, in \u001b[0;36mload\u001b[1;34m(resource_url, format, cache, verbose, logic_parser, fstruct_reader, encoding)\u001b[0m\n\u001b[0;32m    747\u001b[0m     \u001b[39mprint\u001b[39m(\u001b[39mf\u001b[39m\u001b[39m\"\u001b[39m\u001b[39m<<Loading \u001b[39m\u001b[39m{\u001b[39;00mresource_url\u001b[39m}\u001b[39;00m\u001b[39m>>\u001b[39m\u001b[39m\"\u001b[39m)\n\u001b[0;32m    749\u001b[0m \u001b[39m# Load the resource.\u001b[39;00m\n\u001b[1;32m--> 750\u001b[0m opened_resource \u001b[39m=\u001b[39m _open(resource_url)\n\u001b[0;32m    752\u001b[0m \u001b[39mif\u001b[39;00m \u001b[39mformat\u001b[39m \u001b[39m==\u001b[39m \u001b[39m\"\u001b[39m\u001b[39mraw\u001b[39m\u001b[39m\"\u001b[39m:\n\u001b[0;32m    753\u001b[0m     resource_val \u001b[39m=\u001b[39m opened_resource\u001b[39m.\u001b[39mread()\n",
      "File \u001b[1;32mc:\\Users\\lra\\PycharmProjects\\Robert_Kopi_BA\\venv\\lib\\site-packages\\nltk\\data.py:876\u001b[0m, in \u001b[0;36m_open\u001b[1;34m(resource_url)\u001b[0m\n\u001b[0;32m    873\u001b[0m protocol, path_ \u001b[39m=\u001b[39m split_resource_url(resource_url)\n\u001b[0;32m    875\u001b[0m \u001b[39mif\u001b[39;00m protocol \u001b[39mis\u001b[39;00m \u001b[39mNone\u001b[39;00m \u001b[39mor\u001b[39;00m protocol\u001b[39m.\u001b[39mlower() \u001b[39m==\u001b[39m \u001b[39m\"\u001b[39m\u001b[39mnltk\u001b[39m\u001b[39m\"\u001b[39m:\n\u001b[1;32m--> 876\u001b[0m     \u001b[39mreturn\u001b[39;00m find(path_, path \u001b[39m+\u001b[39;49m [\u001b[39m\"\u001b[39;49m\u001b[39m\"\u001b[39;49m])\u001b[39m.\u001b[39mopen()\n\u001b[0;32m    877\u001b[0m \u001b[39melif\u001b[39;00m protocol\u001b[39m.\u001b[39mlower() \u001b[39m==\u001b[39m \u001b[39m\"\u001b[39m\u001b[39mfile\u001b[39m\u001b[39m\"\u001b[39m:\n\u001b[0;32m    878\u001b[0m     \u001b[39m# urllib might not use mode='rb', so handle this one ourselves:\u001b[39;00m\n\u001b[0;32m    879\u001b[0m     \u001b[39mreturn\u001b[39;00m find(path_, [\u001b[39m\"\u001b[39m\u001b[39m\"\u001b[39m])\u001b[39m.\u001b[39mopen()\n",
      "File \u001b[1;32mc:\\Users\\lra\\PycharmProjects\\Robert_Kopi_BA\\venv\\lib\\site-packages\\nltk\\data.py:583\u001b[0m, in \u001b[0;36mfind\u001b[1;34m(resource_name, paths)\u001b[0m\n\u001b[0;32m    581\u001b[0m sep \u001b[39m=\u001b[39m \u001b[39m\"\u001b[39m\u001b[39m*\u001b[39m\u001b[39m\"\u001b[39m \u001b[39m*\u001b[39m \u001b[39m70\u001b[39m\n\u001b[0;32m    582\u001b[0m resource_not_found \u001b[39m=\u001b[39m \u001b[39mf\u001b[39m\u001b[39m\"\u001b[39m\u001b[39m\\n\u001b[39;00m\u001b[39m{\u001b[39;00msep\u001b[39m}\u001b[39;00m\u001b[39m\\n\u001b[39;00m\u001b[39m{\u001b[39;00mmsg\u001b[39m}\u001b[39;00m\u001b[39m\\n\u001b[39;00m\u001b[39m{\u001b[39;00msep\u001b[39m}\u001b[39;00m\u001b[39m\\n\u001b[39;00m\u001b[39m\"\u001b[39m\n\u001b[1;32m--> 583\u001b[0m \u001b[39mraise\u001b[39;00m \u001b[39mLookupError\u001b[39;00m(resource_not_found)\n",
      "\u001b[1;31mLookupError\u001b[0m: \n**********************************************************************\n  Resource \u001b[93mpunkt\u001b[0m not found.\n  Please use the NLTK Downloader to obtain the resource:\n\n  \u001b[31m>>> import nltk\n  >>> nltk.download('punkt')\n  \u001b[0m\n  For more information see: https://www.nltk.org/data.html\n\n  Attempted to load \u001b[93mtokenizers/punkt/english.pickle\u001b[0m\n\n  Searched in:\n    - 'C:\\\\Users\\\\lra/nltk_data'\n    - 'c:\\\\Users\\\\lra\\\\PycharmProjects\\\\Robert_Kopi_BA\\\\venv\\\\nltk_data'\n    - 'c:\\\\Users\\\\lra\\\\PycharmProjects\\\\Robert_Kopi_BA\\\\venv\\\\share\\\\nltk_data'\n    - 'c:\\\\Users\\\\lra\\\\PycharmProjects\\\\Robert_Kopi_BA\\\\venv\\\\lib\\\\nltk_data'\n    - 'C:\\\\Users\\\\lra\\\\AppData\\\\Roaming\\\\nltk_data'\n    - 'C:\\\\nltk_data'\n    - 'D:\\\\nltk_data'\n    - 'E:\\\\nltk_data'\n    - ''\n**********************************************************************\n"
     ]
    }
   ],
   "source": [
    "# word tokenization\n",
    "tokenized_docs = [word_tokenize(tweet['text']) for tweet in tweets_cleaned]\n",
    "\n",
    "# sentence tokenization\n",
    "sent_token = [sent_tokenize(tweet['text']) for tweet in tweets_cleaned]"
   ]
  },
  {
   "cell_type": "code",
   "execution_count": null,
   "metadata": {},
   "outputs": [],
   "source": [
    "# punctuation\n",
    "punctuation_re = f'[{re.escape(string.punctuation)}]'\n",
    "tokenized_docs_no_punctuation = []\n",
    "\n",
    "for review in tokenized_docs:\n",
    "    new_review = []\n",
    "    for token in review:\n",
    "        new_token = re.sub('', token)\n",
    "        if new_token != '':\n",
    "            new_review.append(new_token)\n",
    "\n",
    "    tokenized_docs_no_punctuation.append(new_review)"
   ]
  },
  {
   "cell_type": "code",
   "execution_count": null,
   "metadata": {},
   "outputs": [],
   "source": [
    "# stopwords\n",
    "tokenized_docs_no_stopwords = []\n",
    "for doc in tokenized_docs_no_punctuation:\n",
    "    new_term_vector = []\n",
    "    for word in doc:\n",
    "        if word not in stopwords.words('english'):\n",
    "            new_term_vector.append(word)\n",
    "\n",
    "    tokenized_docs_no_stopwords.append(new_term_vector)"
   ]
  },
  {
   "cell_type": "code",
   "execution_count": null,
   "metadata": {},
   "outputs": [],
   "source": [
    "# stemming & lemmatization\n",
    "porter = PorterStemmer()\n",
    "wordnet = WordNetLemmatizer()\n",
    "\n",
    "preprocessed_docs = []\n",
    "\n",
    "for doc in tokenized_docs_no_stopwords:\n",
    "    final_doc = []\n",
    "    for word in doc:\n",
    "        final_doc.append(porter.stem(word))\n",
    "        final_doc.append(wordnet.Lemmatize(word))\n",
    "\n",
    "    preprocessed_docs.append(final_doc)"
   ]
  }
 ],
 "metadata": {
  "kernelspec": {
   "display_name": "Python 3.10.5 ('venv': venv)",
   "language": "python",
   "name": "python3"
  },
  "language_info": {
   "codemirror_mode": {
    "name": "ipython",
    "version": 3
   },
   "file_extension": ".py",
   "mimetype": "text/x-python",
   "name": "python",
   "nbconvert_exporter": "python",
   "pygments_lexer": "ipython3",
   "version": "3.10.5"
  },
  "orig_nbformat": 4,
  "vscode": {
   "interpreter": {
    "hash": "b979de47bede09ce12445666d7c95e8fe907d9717fd31b8a26e53a03a187a1f6"
   }
  }
 },
 "nbformat": 4,
 "nbformat_minor": 2
}
