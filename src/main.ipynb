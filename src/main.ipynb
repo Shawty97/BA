{
 "cells": [
  {
   "cell_type": "code",
   "execution_count": 46,
   "metadata": {},
   "outputs": [],
   "source": [
    "# imports\n",
    "import json\n",
    "import re\n",
    "import string\n",
    "from pprint import pprint as print\n",
    "\n",
    "from nltk.tokenize import word_tokenize, sent_tokenize\n",
    "from nltk.corpus import stopwords\n",
    "from nltk.stem.porter import PorterStemmer\n",
    "from nltk.stem.wordnet import WordNetLemmatizer"
   ]
  },
  {
   "cell_type": "code",
   "execution_count": 47,
   "metadata": {},
   "outputs": [
    {
     "name": "stdout",
     "output_type": "stream",
     "text": [
      "{'conversation_id': '913599329369280513',\n",
      " 'created_at': '2017-09-29',\n",
      " 'data.public_metrics.like_count': 0,\n",
      " 'data.public_metrics.quote_count': 0,\n",
      " 'data.public_metrics.reply_count': 0,\n",
      " 'data.public_metrics.retweet_count': 3,\n",
      " 'day': 29,\n",
      " 'in_reply_to_user_id': '',\n",
      " 'lang': 'en',\n",
      " 'month': 9,\n",
      " 'possibly_sensitive': False,\n",
      " 'reply_settings': 'everyone',\n",
      " 'source': 'Twitter for iPhone',\n",
      " 'text': 'RT @forty3north: And congratulations to our runners-up @CooltureUSA '\n",
      "         'and Pneumaglide! #THEPITCH',\n",
      " 'tweet_id': '913599329369280513',\n",
      " 'user_id': '418101032',\n",
      " 'year': 2017}\n"
     ]
    }
   ],
   "source": [
    "# load data\n",
    "\n",
    "with open('data/tweets.json', encoding='utf-8') as file_in:\n",
    "    tweets = json.load(file_in)['tweets']\n",
    "\n",
    "print(tweets[0])"
   ]
  },
  {
   "cell_type": "code",
   "execution_count": 48,
   "metadata": {},
   "outputs": [
    {
     "name": "stdout",
     "output_type": "stream",
     "text": [
      "[{'conversation_id': '913599329369280513',\n",
      "  'text': 'RT @forty3north: And congratulations to our runners-up @CooltureUSA '\n",
      "          'and Pneumaglide! #THEPITCH',\n",
      "  'tweet_id': '913599329369280513'},\n",
      " {'conversation_id': '913599235077083136',\n",
      "  'text': 'RT @MarnieLaVigne2: @Launch_NY client @CooltureUSA wins $5k! '\n",
      "          'https://t.co/Sx38wpPw7l',\n",
      "  'tweet_id': '913599235077083136'},\n",
      " {'conversation_id': '913599211425419265',\n",
      "  'text': 'RT @AshleyroweWKBW: Congratulations to @ZandraBeauty for winning '\n",
      "          'top prize at #ThePitch @forty3north ! A rising star. Our full story '\n",
      "          'on Zan…',\n",
      "  'tweet_id': '913599211425419265'}]\n"
     ]
    }
   ],
   "source": [
    "# clean unwanted fields\n",
    "tweets_cleaned = []\n",
    "\n",
    "for tweet in tweets:\n",
    "    tweets_cleaned.append(\n",
    "        dict(\n",
    "            text=tweet['text'],\n",
    "            tweet_id=tweet['tweet_id'],\n",
    "            conversation_id=tweet['conversation_id'],\n",
    "        )\n",
    "    )\n",
    "\n",
    "print(tweets_cleaned[:3])"
   ]
  },
  {
   "cell_type": "code",
   "execution_count": 49,
   "metadata": {},
   "outputs": [
    {
     "name": "stdout",
     "output_type": "stream",
     "text": [
      "'Original number of Tweets: 37'\n",
      "'Number of unique TweetIDs: 37'\n",
      "'Number of duplicate TweetIDs: 0'\n",
      "'Duplicate ratio: 0.0%'\n"
     ]
    }
   ],
   "source": [
    "# remove duplicates\n",
    "unique_tweet_ids = set()\n",
    "duplicates = []\n",
    "\n",
    "for tweet in tweets_cleaned:\n",
    "    if tweet['tweet_id'] in unique_tweet_ids:\n",
    "        print(f'Duplicate key: {tweet[\"tweet_id\"]}')\n",
    "        duplicates.append(tweet['tweet_id'])\n",
    "        continue\n",
    "\n",
    "    unique_tweet_ids.add(tweet['tweet_id'])\n",
    "\n",
    "print(f'Original number of Tweets: {len(tweets_cleaned)}')\n",
    "print(f'Number of unique TweetIDs: {len(unique_tweet_ids)}')\n",
    "print(f'Number of duplicate TweetIDs: {len(duplicates)}')\n",
    "print(f'Duplicate ratio: {len(duplicates) / len(tweets_cleaned) * 100}%')"
   ]
  },
  {
   "cell_type": "code",
   "execution_count": 50,
   "metadata": {},
   "outputs": [
    {
     "name": "stdout",
     "output_type": "stream",
     "text": [
      "['RT',\n",
      " '@',\n",
      " 'forty3north',\n",
      " ':',\n",
      " 'And',\n",
      " 'congratulations',\n",
      " 'to',\n",
      " 'our',\n",
      " 'runners-up',\n",
      " '@',\n",
      " 'CooltureUSA',\n",
      " 'and',\n",
      " 'Pneumaglide',\n",
      " '!',\n",
      " '#',\n",
      " 'THEPITCH']\n"
     ]
    }
   ],
   "source": [
    "# word tokenization\n",
    "tokenized_docs = [word_tokenize(tweet['text']) for tweet in tweets_cleaned]\n",
    "print(tokenized_docs[0])"
   ]
  },
  {
   "cell_type": "code",
   "execution_count": 51,
   "metadata": {},
   "outputs": [
    {
     "name": "stdout",
     "output_type": "stream",
     "text": [
      "[['RT @forty3north: And congratulations to our runners-up @CooltureUSA and '\n",
      "  'Pneumaglide!',\n",
      "  '#THEPITCH'],\n",
      " ['RT @MarnieLaVigne2: @Launch_NY client @CooltureUSA wins $5k!',\n",
      "  'https://t.co/Sx38wpPw7l'],\n",
      " ['RT @AshleyroweWKBW: Congratulations to @ZandraBeauty for winning top prize '\n",
      "  'at #ThePitch @forty3north !',\n",
      "  'A rising star.',\n",
      "  'Our full story on Zan…']]\n"
     ]
    }
   ],
   "source": [
    "# sentence tokenization\n",
    "sent_token = [sent_tokenize(tweet['text']) for tweet in tweets_cleaned]\n",
    "print(sent_token[:3])"
   ]
  },
  {
   "cell_type": "code",
   "execution_count": 52,
   "metadata": {},
   "outputs": [],
   "source": [
    "# lowercase\n",
    "for tweet in tweets_cleaned:\n",
    "    tweet['text'] = tweet['text'].lower()"
   ]
  },
  {
   "cell_type": "code",
   "execution_count": 53,
   "metadata": {},
   "outputs": [
    {
     "name": "stdout",
     "output_type": "stream",
     "text": [
      "['RT',\n",
      " 'forty3north',\n",
      " 'And',\n",
      " 'congratulations',\n",
      " 'to',\n",
      " 'our',\n",
      " 'runnersup',\n",
      " 'CooltureUSA',\n",
      " 'and',\n",
      " 'Pneumaglide',\n",
      " 'THEPITCH']\n"
     ]
    }
   ],
   "source": [
    "# punctuation\n",
    "punctuation_re = re.compile(f'[{re.escape(string.punctuation)}]')\n",
    "tokenized_docs_no_punctuation = []\n",
    "\n",
    "for review in tokenized_docs:\n",
    "    new_review = []\n",
    "    for token in review:\n",
    "        new_token = punctuation_re.sub('', token)\n",
    "        if new_token != '':\n",
    "            new_review.append(new_token)\n",
    "\n",
    "    tokenized_docs_no_punctuation.append(new_review)\n",
    "\n",
    "print(tokenized_docs_no_punctuation[0])"
   ]
  },
  {
   "cell_type": "code",
   "execution_count": 54,
   "metadata": {},
   "outputs": [
    {
     "name": "stdout",
     "output_type": "stream",
     "text": [
      "['RT',\n",
      " 'forty3north',\n",
      " 'And',\n",
      " 'congratulations',\n",
      " 'runnersup',\n",
      " 'CooltureUSA',\n",
      " 'Pneumaglide',\n",
      " 'THEPITCH']\n"
     ]
    }
   ],
   "source": [
    "# stopwords\n",
    "tokenized_docs_no_stopwords = []\n",
    "\n",
    "for doc in tokenized_docs_no_punctuation:\n",
    "    new_term_vector = []\n",
    "    for word in doc:\n",
    "        if word not in stopwords.words('english'):\n",
    "            new_term_vector.append(word)\n",
    "\n",
    "    tokenized_docs_no_stopwords.append(new_term_vector)\n",
    "\n",
    "print(tokenized_docs_no_stopwords[0])"
   ]
  },
  {
   "cell_type": "code",
   "execution_count": 56,
   "metadata": {},
   "outputs": [
    {
     "ename": "AttributeError",
     "evalue": "'WordNetLemmatizer' object has no attribute 'Lemmatize'",
     "output_type": "error",
     "traceback": [
      "\u001b[1;31m---------------------------------------------------------------------------\u001b[0m",
      "\u001b[1;31mAttributeError\u001b[0m                            Traceback (most recent call last)",
      "\u001b[1;32mc:\\Users\\lra\\PycharmProjects\\Robert_Kopi_BA\\src\\main.ipynb Cell 10\u001b[0m in \u001b[0;36m<cell line: 7>\u001b[1;34m()\u001b[0m\n\u001b[0;32m      <a href='vscode-notebook-cell:/c%3A/Users/lra/PycharmProjects/Robert_Kopi_BA/src/main.ipynb#ch0000006?line=8'>9</a>\u001b[0m     \u001b[39mfor\u001b[39;00m word \u001b[39min\u001b[39;00m doc:\n\u001b[0;32m     <a href='vscode-notebook-cell:/c%3A/Users/lra/PycharmProjects/Robert_Kopi_BA/src/main.ipynb#ch0000006?line=9'>10</a>\u001b[0m         final_doc\u001b[39m.\u001b[39mappend(porter\u001b[39m.\u001b[39mstem(word))\n\u001b[1;32m---> <a href='vscode-notebook-cell:/c%3A/Users/lra/PycharmProjects/Robert_Kopi_BA/src/main.ipynb#ch0000006?line=10'>11</a>\u001b[0m         final_doc\u001b[39m.\u001b[39mappend(wordnet\u001b[39m.\u001b[39;49mLemmatize(word))\n\u001b[0;32m     <a href='vscode-notebook-cell:/c%3A/Users/lra/PycharmProjects/Robert_Kopi_BA/src/main.ipynb#ch0000006?line=12'>13</a>\u001b[0m     preprocessed_docs\u001b[39m.\u001b[39mappend(final_doc)\n\u001b[0;32m     <a href='vscode-notebook-cell:/c%3A/Users/lra/PycharmProjects/Robert_Kopi_BA/src/main.ipynb#ch0000006?line=14'>15</a>\u001b[0m \u001b[39mprint\u001b[39m(preprocessed_docs[:\u001b[39m3\u001b[39m])\n",
      "\u001b[1;31mAttributeError\u001b[0m: 'WordNetLemmatizer' object has no attribute 'Lemmatize'"
     ]
    }
   ],
   "source": [
    "# stemming & lemmatization\n",
    "porter = PorterStemmer()\n",
    "wordnet = WordNetLemmatizer()\n",
    "\n",
    "preprocessed_docs = []\n",
    "\n",
    "for doc in tokenized_docs_no_stopwords:\n",
    "    final_doc = []\n",
    "    for word in doc:\n",
    "        final_doc.append(porter.stem(word))\n",
    "        final_doc.append(wordnet.lemmatize(word))\n",
    "\n",
    "    preprocessed_docs.append(final_doc)\n",
    "\n",
    "print(preprocessed_docs[:3])"
   ]
  }
 ],
 "metadata": {
  "kernelspec": {
   "display_name": "Python 3.10.5 ('venv': venv)",
   "language": "python",
   "name": "python3"
  },
  "language_info": {
   "codemirror_mode": {
    "name": "ipython",
    "version": 3
   },
   "file_extension": ".py",
   "mimetype": "text/x-python",
   "name": "python",
   "nbconvert_exporter": "python",
   "pygments_lexer": "ipython3",
   "version": "3.10.5"
  },
  "orig_nbformat": 4,
  "vscode": {
   "interpreter": {
    "hash": "b979de47bede09ce12445666d7c95e8fe907d9717fd31b8a26e53a03a187a1f6"
   }
  }
 },
 "nbformat": 4,
 "nbformat_minor": 2
}
