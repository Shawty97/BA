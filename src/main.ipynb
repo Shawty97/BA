{
 "cells": [
  {
   "cell_type": "code",
   "execution_count": 34,
   "metadata": {},
   "outputs": [],
   "source": [
    "# imports\n",
    "import json\n",
    "import re\n",
    "import string\n",
    "from pprint import pprint\n",
    "\n",
    "from tabulate import tabulate\n",
    "from nltk.tokenize import word_tokenize, sent_tokenize\n",
    "from nltk.corpus import stopwords\n",
    "from nltk.stem.porter import PorterStemmer\n",
    "from nltk.stem.wordnet import WordNetLemmatizer"
   ]
  },
  {
   "cell_type": "code",
   "execution_count": 35,
   "metadata": {},
   "outputs": [
    {
     "name": "stdout",
     "output_type": "stream",
     "text": [
      "{'conversation_id': '913599329369280513',\n",
      " 'created_at': '2017-09-29',\n",
      " 'data.public_metrics.like_count': 0,\n",
      " 'data.public_metrics.quote_count': 0,\n",
      " 'data.public_metrics.reply_count': 0,\n",
      " 'data.public_metrics.retweet_count': 3,\n",
      " 'day': 29,\n",
      " 'in_reply_to_user_id': '',\n",
      " 'lang': 'en',\n",
      " 'month': 9,\n",
      " 'possibly_sensitive': False,\n",
      " 'reply_settings': 'everyone',\n",
      " 'source': 'Twitter for iPhone',\n",
      " 'text': 'RT @forty3north: And congratulations to our runners-up @CooltureUSA '\n",
      "         'and Pneumaglide! #THEPITCH',\n",
      " 'tweet_id': '913599329369280513',\n",
      " 'user_id': '418101032',\n",
      " 'year': 2017}\n"
     ]
    }
   ],
   "source": [
    "# load data\n",
    "\n",
    "with open('data/tweets.json', encoding='utf-8') as file_in:\n",
    "    tweets = json.load(file_in)['tweets']\n",
    "\n",
    "pprint(tweets[0])"
   ]
  },
  {
   "cell_type": "code",
   "execution_count": 36,
   "metadata": {},
   "outputs": [
    {
     "name": "stdout",
     "output_type": "stream",
     "text": [
      "[{'conversation_id': '913599329369280513',\n",
      "  'text': 'RT @forty3north: And congratulations to our runners-up @CooltureUSA '\n",
      "          'and Pneumaglide! #THEPITCH',\n",
      "  'tweet_id': '913599329369280513'},\n",
      " {'conversation_id': '913599235077083136',\n",
      "  'text': 'RT @MarnieLaVigne2: @Launch_NY client @CooltureUSA wins $5k! '\n",
      "          'https://t.co/Sx38wpPw7l',\n",
      "  'tweet_id': '913599235077083136'},\n",
      " {'conversation_id': '913599211425419265',\n",
      "  'text': 'RT @AshleyroweWKBW: Congratulations to @ZandraBeauty for winning '\n",
      "          'top prize at #ThePitch @forty3north ! A rising star. Our full story '\n",
      "          'on Zan…',\n",
      "  'tweet_id': '913599211425419265'}]\n"
     ]
    }
   ],
   "source": [
    "# clean unwanted fields\n",
    "tweets_cleaned = []\n",
    "\n",
    "for tweet in tweets:\n",
    "    tweets_cleaned.append(\n",
    "        dict(\n",
    "            text=tweet['text'],\n",
    "            tweet_id=tweet['tweet_id'],\n",
    "            conversation_id=tweet['conversation_id'],\n",
    "        )\n",
    "    )\n",
    "\n",
    "pprint(tweets_cleaned[:3])"
   ]
  },
  {
   "cell_type": "code",
   "execution_count": 37,
   "metadata": {},
   "outputs": [
    {
     "name": "stdout",
     "output_type": "stream",
     "text": [
      "[{'conversation_id': '913599329369280513',\n",
      "  'text': 'rt @forty3north: and congratulations to our runners-up @cooltureusa '\n",
      "          'and pneumaglide! #thepitch',\n",
      "  'tweet_id': '913599329369280513'},\n",
      " {'conversation_id': '913599235077083136',\n",
      "  'text': 'rt @marnielavigne2: @launch_ny client @cooltureusa wins $5k! '\n",
      "          'https://t.co/sx38wppw7l',\n",
      "  'tweet_id': '913599235077083136'},\n",
      " {'conversation_id': '913599211425419265',\n",
      "  'text': 'rt @ashleyrowewkbw: congratulations to @zandrabeauty for winning '\n",
      "          'top prize at #thepitch @forty3north ! a rising star. our full story '\n",
      "          'on zan…',\n",
      "  'tweet_id': '913599211425419265'}]\n"
     ]
    }
   ],
   "source": [
    "# lowercase\n",
    "for tweet in tweets_cleaned:\n",
    "    tweet['text'] = tweet['text'].lower()\n",
    "\n",
    "pprint(tweets_cleaned[:3])"
   ]
  },
  {
   "cell_type": "code",
   "execution_count": 38,
   "metadata": {},
   "outputs": [
    {
     "name": "stdout",
     "output_type": "stream",
     "text": [
      "('Original number of Tweets     37\\n'\n",
      " 'Number of unique TweetIDs     37\\n'\n",
      " 'Number of duplicate TweetIDs   0\\n'\n",
      " 'Duplicate ratio                0')\n"
     ]
    }
   ],
   "source": [
    "# remove duplicates\n",
    "unique_tweet_ids = set()\n",
    "duplicates = []\n",
    "\n",
    "for tweet in tweets_cleaned:\n",
    "    if tweet['tweet_id'] in unique_tweet_ids:\n",
    "        print(f'Duplicate key: {tweet[\"tweet_id\"]}')\n",
    "        duplicates.append(tweet['tweet_id'])\n",
    "        continue\n",
    "\n",
    "    unique_tweet_ids.add(tweet['tweet_id'])\n",
    "\n",
    "report = [\n",
    "    ['Original number of Tweets', len(tweets_cleaned)],\n",
    "    ['Number of unique TweetIDs', len(unique_tweet_ids)],\n",
    "    ['Number of duplicate TweetIDs', len(duplicates)],\n",
    "    ['Duplicate ratio', len(duplicates) / len(tweets_cleaned)],\n",
    "]\n",
    "print(tabulate(report, tablefmt='plain'))"
   ]
  },
  {
   "cell_type": "code",
   "execution_count": 39,
   "metadata": {},
   "outputs": [
    {
     "name": "stdout",
     "output_type": "stream",
     "text": [
      "['rt',\n",
      " '@',\n",
      " 'forty3north',\n",
      " ':',\n",
      " 'and',\n",
      " 'congratulations',\n",
      " 'to',\n",
      " 'our',\n",
      " 'runners-up',\n",
      " '@',\n",
      " 'cooltureusa',\n",
      " 'and',\n",
      " 'pneumaglide',\n",
      " '!',\n",
      " '#',\n",
      " 'thepitch']\n"
     ]
    }
   ],
   "source": [
    "# word tokenization\n",
    "tokenized_docs = [word_tokenize(tweet['text']) for tweet in tweets_cleaned]\n",
    "print(tokenized_docs[0])"
   ]
  },
  {
   "cell_type": "code",
   "execution_count": 40,
   "metadata": {},
   "outputs": [
    {
     "name": "stdout",
     "output_type": "stream",
     "text": [
      "[['rt @forty3north: and congratulations to our runners-up @cooltureusa and '\n",
      "  'pneumaglide!',\n",
      "  '#thepitch'],\n",
      " ['rt @marnielavigne2: @launch_ny client @cooltureusa wins $5k!',\n",
      "  'https://t.co/sx38wppw7l'],\n",
      " ['rt @ashleyrowewkbw: congratulations to @zandrabeauty for winning top prize '\n",
      "  'at #thepitch @forty3north !',\n",
      "  'a rising star.',\n",
      "  'our full story on zan…']]\n"
     ]
    }
   ],
   "source": [
    "# sentence tokenization\n",
    "sent_token = [sent_tokenize(tweet['text']) for tweet in tweets_cleaned]\n",
    "print(sent_token[:3])"
   ]
  },
  {
   "cell_type": "code",
   "execution_count": 41,
   "metadata": {},
   "outputs": [
    {
     "name": "stdout",
     "output_type": "stream",
     "text": [
      "['rt',\n",
      " 'forty3north',\n",
      " 'and',\n",
      " 'congratulations',\n",
      " 'to',\n",
      " 'our',\n",
      " 'runnersup',\n",
      " 'cooltureusa',\n",
      " 'and',\n",
      " 'pneumaglide',\n",
      " 'thepitch']\n"
     ]
    }
   ],
   "source": [
    "# punctuation\n",
    "punctuation_re = re.compile(f'[{re.escape(string.punctuation)}]')\n",
    "tokenized_docs_no_punctuation = []\n",
    "\n",
    "for review in tokenized_docs:\n",
    "    new_review = []\n",
    "    for token in review:\n",
    "        new_token = punctuation_re.sub('', token)\n",
    "        if new_token != '':\n",
    "            new_review.append(new_token)\n",
    "\n",
    "    tokenized_docs_no_punctuation.append(new_review)\n",
    "\n",
    "print(tokenized_docs_no_punctuation[0])"
   ]
  },
  {
   "cell_type": "code",
   "execution_count": 42,
   "metadata": {},
   "outputs": [
    {
     "name": "stdout",
     "output_type": "stream",
     "text": [
      "['rt',\n",
      " 'forty3north',\n",
      " 'congratulations',\n",
      " 'runnersup',\n",
      " 'cooltureusa',\n",
      " 'pneumaglide',\n",
      " 'thepitch']\n"
     ]
    }
   ],
   "source": [
    "# stopwords\n",
    "tokenized_docs_no_stopwords = []\n",
    "\n",
    "for doc in tokenized_docs_no_punctuation:\n",
    "    new_term_vector = []\n",
    "    for word in doc:\n",
    "        if word not in stopwords.words('english'):\n",
    "            new_term_vector.append(word)\n",
    "\n",
    "    tokenized_docs_no_stopwords.append(new_term_vector)\n",
    "\n",
    "print(tokenized_docs_no_stopwords[0])"
   ]
  },
  {
   "cell_type": "code",
   "execution_count": 44,
   "metadata": {},
   "outputs": [
    {
     "name": "stdout",
     "output_type": "stream",
     "text": [
      "['rt',\n",
      " 'rt',\n",
      " 'forty3north',\n",
      " 'forty3north',\n",
      " 'congratul',\n",
      " 'congratulation',\n",
      " 'runnersup',\n",
      " 'runnersup',\n",
      " 'cooltureusa',\n",
      " 'cooltureusa',\n",
      " 'pneumaglid',\n",
      " 'pneumaglide',\n",
      " 'thepitch',\n",
      " 'thepitch']\n"
     ]
    }
   ],
   "source": [
    "# stemming & lemmatization\n",
    "porter = PorterStemmer()\n",
    "wordnet = WordNetLemmatizer()\n",
    "\n",
    "preprocessed_docs = []\n",
    "\n",
    "for doc in tokenized_docs_no_stopwords:\n",
    "    final_doc = []\n",
    "    for word in doc:\n",
    "        final_doc.append(porter.stem(word))\n",
    "        final_doc.append(wordnet.lemmatize(word))\n",
    "\n",
    "    preprocessed_docs.append(final_doc)\n",
    "\n",
    "pprint(preprocessed_docs[0])"
   ]
  }
 ],
 "metadata": {
  "kernelspec": {
   "display_name": "Python 3.10.5 ('venv': venv)",
   "language": "python",
   "name": "python3"
  },
  "language_info": {
   "codemirror_mode": {
    "name": "ipython",
    "version": 3
   },
   "file_extension": ".py",
   "mimetype": "text/x-python",
   "name": "python",
   "nbconvert_exporter": "python",
   "pygments_lexer": "ipython3",
   "version": "3.10.5"
  },
  "orig_nbformat": 4,
  "vscode": {
   "interpreter": {
    "hash": "b979de47bede09ce12445666d7c95e8fe907d9717fd31b8a26e53a03a187a1f6"
   }
  }
 },
 "nbformat": 4,
 "nbformat_minor": 2
}
